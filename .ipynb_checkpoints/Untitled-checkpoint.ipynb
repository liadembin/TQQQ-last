{
 "cells": [
  {
   "cell_type": "code",
   "execution_count": 2,
   "id": "8cdb53de-be94-4bc5-b6ef-5adeafd7fc4f",
   "metadata": {},
   "outputs": [],
   "source": [
    "import yfinance as yf \n",
    "import pandas as pd \n",
    "import numpy as np \n",
    "import tensorflow as tf \n",
    "from tensorflow import keras \n",
    "from tensorflow.keras.layers import LSTM,Dense,Dropout\n",
    "from tensorflow.keras.layers import Bidirectional as Bi\n",
    "from tensorflow.keras.models import load_model,Sequential\n",
    "from matplotlib import pyplot as plt \n",
    "from finta import TA as ta \n",
    "import warnings\n",
    "warnings.filterwarnings('ignore')\n",
    "np.random.seed(8)\n",
    "%load_ext tensorboard"
   ]
  },
  {
   "cell_type": "code",
   "execution_count": null,
   "id": "29042962-0db4-4641-a47a-2514b158b37e",
   "metadata": {},
   "outputs": [],
   "source": []
  }
 ],
 "metadata": {
  "kernelspec": {
   "display_name": "Python 3 (ipykernel)",
   "language": "python",
   "name": "python3"
  },
  "language_info": {
   "codemirror_mode": {
    "name": "ipython",
    "version": 3
   },
   "file_extension": ".py",
   "mimetype": "text/x-python",
   "name": "python",
   "nbconvert_exporter": "python",
   "pygments_lexer": "ipython3",
   "version": "3.10.2"
  }
 },
 "nbformat": 4,
 "nbformat_minor": 5
}
